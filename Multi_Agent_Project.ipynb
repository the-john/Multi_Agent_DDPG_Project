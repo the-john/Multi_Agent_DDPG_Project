{
 "cells": [
  {
   "cell_type": "markdown",
   "metadata": {},
   "source": [
    "# Multi Agent Collaboration and Competition Project\n",
    "\n",
    "---\n",
    "\n",
    "I wanted to do this whole thing on my own computer.  However, I'm still struggling to get the Unity ML-Agents environments to work properly.  Because I'm on a time schedule, I need to bang out the project.  So I'm using the Udacity Workspace to do this project.  It sucks, but I'm working to resolve all of this.  \n",
    "\n",
    "I'm using my last project, the DDPG_Project, as the foundation of this project and building from there.\n",
    "\n",
    "### 1. Start the Environment\n",
    "\n",
    "We need to install a bunch of packages.  Run the next two code cells to do the install.  This line will take a few minutes to run and will only work in the Udacity Workspace."
   ]
  },
  {
   "cell_type": "code",
   "execution_count": 1,
   "metadata": {},
   "outputs": [
    {
     "name": "stdout",
     "output_type": "stream",
     "text": [
      "\u001b[31mtensorflow 1.7.1 has requirement numpy>=1.13.3, but you'll have numpy 1.12.1 which is incompatible.\u001b[0m\r\n",
      "\u001b[31mipython 6.5.0 has requirement prompt-toolkit<2.0.0,>=1.0.15, but you'll have prompt-toolkit 2.0.9 which is incompatible.\u001b[0m\r\n"
     ]
    }
   ],
   "source": [
    "!pip -q install ./python"
   ]
  },
  {
   "cell_type": "code",
   "execution_count": 2,
   "metadata": {},
   "outputs": [],
   "source": [
    "import random\n",
    "import torch\n",
    "import workspace_utils\n",
    "from ma_ddpg_agent import Agent\n",
    "from collections import deque\n",
    "from unityagents import UnityEnvironment\n",
    "from workspace_utils import active_session\n",
    "import numpy as np\n",
    "import matplotlib.pyplot as plt\n",
    "%matplotlib inline"
   ]
  },
  {
   "cell_type": "markdown",
   "metadata": {},
   "source": [
    "Now we need to install the environment.  Because I am in the Udacity Workspace, the environment already exists.  All I need to do it tap into it via the proper file path.  "
   ]
  },
  {
   "cell_type": "code",
   "execution_count": 3,
   "metadata": {},
   "outputs": [
    {
     "name": "stderr",
     "output_type": "stream",
     "text": [
      "INFO:unityagents:\n",
      "'Academy' started successfully!\n",
      "Unity Academy name: Academy\n",
      "        Number of Brains: 1\n",
      "        Number of External Brains : 1\n",
      "        Lesson number : 0\n",
      "        Reset Parameters :\n",
      "\t\t\n",
      "Unity brain name: TennisBrain\n",
      "        Number of Visual Observations (per agent): 0\n",
      "        Vector Observation space type: continuous\n",
      "        Vector Observation space size (per agent): 8\n",
      "        Number of stacked Vector Observation: 3\n",
      "        Vector Action space type: continuous\n",
      "        Vector Action space size (per agent): 2\n",
      "        Vector Action descriptions: , \n"
     ]
    }
   ],
   "source": [
    "env = UnityEnvironment(file_name='/data/Tennis_Linux_NoVis/Tennis')"
   ]
  },
  {
   "cell_type": "markdown",
   "metadata": {},
   "source": [
    "Environments contain **_brains_** which are responsible for deciding the actions of their associated agents. Here we check for the first brain available, and set it as the default brain we will be controlling from Python."
   ]
  },
  {
   "cell_type": "code",
   "execution_count": 4,
   "metadata": {},
   "outputs": [],
   "source": [
    "# get the default brain\n",
    "brain_name = env.brain_names[0]\n",
    "brain = env.brains[brain_name]"
   ]
  },
  {
   "cell_type": "markdown",
   "metadata": {},
   "source": [
    "### 2. Examine the State and Action Spaces\n",
    "\n",
    "In this environment, two agents control rackets to bounce a ball over a net. If an agent hits the ball over the net, it receives a reward of +0.1. If an agent lets a ball hit the ground or hits the ball out of bounds, it receives a reward of -0.01. Thus, the goal of each agent is to keep the ball in play.\n",
    "\n",
    "The observation space consists of 8 variables corresponding to the position and velocity of the ball and racket. Each agent receives its own, local observation. Two continuous actions are available, corresponding to movement toward (or away from) the net, and jumping.\n",
    "\n",
    "The task is episodic, and in order to solve the environment, your agents must get an average score of +0.5 (over 100 consecutive episodes, after taking the maximum over both agents). Specifically,\n",
    "\n",
    "- After each episode, we add up the rewards that each agent received (without discounting), to get a score for each agent. This yields 2 (potentially different) scores. We then take the maximum of these 2 scores.\n",
    "\n",
    "- This yields a single score for each episode.\n",
    "\n",
    "The environment is considered solved, when the average (over 100 episodes) of those scores is at least +0.5."
   ]
  },
  {
   "cell_type": "code",
   "execution_count": 5,
   "metadata": {},
   "outputs": [
    {
     "name": "stdout",
     "output_type": "stream",
     "text": [
      "Number of agents: 2\n",
      "Size of each action: 2\n",
      "There are 2 agents. Each observes a state with length: 24\n",
      "The state for the first agent looks like: [ 0.          0.          0.          0.          0.          0.          0.\n",
      "  0.          0.          0.          0.          0.          0.          0.\n",
      "  0.          0.         -6.65278625 -1.5        -0.          0.\n",
      "  6.83172083  6.         -0.          0.        ]\n"
     ]
    }
   ],
   "source": [
    "# reset the environment\n",
    "env_info = env.reset(train_mode=True)[brain_name]\n",
    "\n",
    "# number of agents \n",
    "num_agents = len(env_info.agents)\n",
    "print('Number of agents:', num_agents)\n",
    "\n",
    "# size of each action\n",
    "action_size = brain.vector_action_space_size\n",
    "print('Size of each action:', action_size)\n",
    "\n",
    "# examine the state space \n",
    "states = env_info.vector_observations\n",
    "state_size = states.shape[1]\n",
    "print('There are {} agents. Each observes a state with length: {}'.format(states.shape[0], state_size))\n",
    "print('The state for the first agent looks like:', states[0])"
   ]
  },
  {
   "cell_type": "markdown",
   "metadata": {},
   "source": [
    "### 3. Take Random Actions in the Environment\n",
    "\n",
    "In the next code cell, you can see how to use the Python API to control the agent and receive feedback from the environment.\n",
    "\n",
    "Because I'm in the Udacity Workspace, you will not be able to watch the Agents while they are training.  Suck ... I know.\n",
    "\n",
    "This code takes random Actions, so it's performance will be less than stellar.  However, it should prove that everything is set up properly and working as expected."
   ]
  },
  {
   "cell_type": "code",
   "execution_count": 6,
   "metadata": {},
   "outputs": [
    {
     "name": "stdout",
     "output_type": "stream",
     "text": [
      "Total score (averaged over agents) this episode: -0.004999999888241291\n",
      "Total score (averaged over agents) this episode: 0.04500000085681677\n",
      "Total score (averaged over agents) this episode: -0.004999999888241291\n",
      "Total score (averaged over agents) this episode: 0.09500000160187483\n",
      "Total score (averaged over agents) this episode: -0.004999999888241291\n"
     ]
    }
   ],
   "source": [
    "for i in range(5):                                         # play game for 5 episodes\n",
    "    env_info = env.reset(train_mode=False)[brain_name]     # reset the environment    \n",
    "    states = env_info.vector_observations                  # get the current state (for each agent)\n",
    "    scores = np.zeros(num_agents)                          # initialize the score (for each agent)\n",
    "    while True:\n",
    "        actions = np.random.randn(num_agents, action_size) # select an action (for each agent)\n",
    "        actions = np.clip(actions, -1, 1)                  # all actions between -1 and 1\n",
    "        env_info = env.step(actions)[brain_name]           # send all actions to tne environment\n",
    "        next_states = env_info.vector_observations         # get next state (for each agent)\n",
    "        rewards = env_info.rewards                         # get reward (for each agent)\n",
    "        dones = env_info.local_done                        # see if episode finished\n",
    "        scores += env_info.rewards                         # update the score (for each agent)\n",
    "        states = next_states                               # roll over states to next time step\n",
    "        if np.any(dones):                                  # exit loop if episode finished\n",
    "            break\n",
    "    print('Total score (averaged over agents) this episode: {}'.format(np.mean(scores)))"
   ]
  },
  {
   "cell_type": "markdown",
   "metadata": {},
   "source": [
    "### 4. Now to train the Agent\n",
    "\n",
    "A few **important notes**:\n",
    "- When training the environment, set `train_mode=True`, so that the line for resetting the environment looks like the following:\n",
    "```python\n",
    "env_info = env.reset(train_mode=True)[brain_name]\n",
    "```\n",
    "- You can see the list of files in the workspace by clicking on **_Jupyter_** in the top left corner of the notebook.\n",
    "- **_After training the agents_**, you can download the saved model weights to watch the agents on your own machine! "
   ]
  },
  {
   "cell_type": "markdown",
   "metadata": {},
   "source": [
    "But first, we get the actions for each of the two Agents and combine them into a single array"
   ]
  },
  {
   "cell_type": "code",
   "execution_count": 7,
   "metadata": {},
   "outputs": [],
   "source": [
    "def get_actions(states, add_noise):\n",
    "    action_0 = agent_0.act(states, add_noise)\n",
    "    action_1 = agent_1.act(states, add_noise)\n",
    "    action_jackson = np.concatenate((action_0, action_1), axis=0).flatten()\n",
    "    \n",
    "    return action_jackson"
   ]
  },
  {
   "cell_type": "markdown",
   "metadata": {},
   "source": [
    "We start with the Deep Deterministic Policy Gradient (DDPG) function."
   ]
  },
  {
   "cell_type": "code",
   "execution_count": 8,
   "metadata": {},
   "outputs": [],
   "source": [
    "def ma_ddpg(n_episodes=5000, train_mode=True):\n",
    "    \"\"\"Multi-Agent Deep Deterministic Policy Gradient (MADDPG)\n",
    "    \n",
    "    Params\n",
    "    ======\n",
    "        n_episodes            : maximum number of training episodes\n",
    "        train_mode            : if 'True' set environment to training mode\n",
    "\n",
    "    \"\"\"\n",
    "\n",
    "    scored = []\n",
    "    mov_avg = []                                                    # list containing the moving averages\n",
    "    mean_scores = []\n",
    "    mean_score = 0.0\n",
    "    solved = False\n",
    "    scores_window = deque(maxlen=100)                              # last 100 scores\n",
    "\n",
    "    for i_episode in range(1, n_episodes+1):\n",
    "        env_info = env.reset(train_mode=train_mode)[brain_name]    # reset the environment\n",
    "        states = np.reshape(env_info.vector_observations, (1,48))  # get the current state (for each agent) and combine\n",
    "        scores = np.zeros(num_agents)                              # initialize the score (for each agent)\n",
    "        agent_0.reset()\n",
    "        agent_1.reset()\n",
    "        \n",
    "        while True:                                                # run the entire match, not just 1000 timesteps\n",
    "            actions = get_actions(states, add_noise=True)          # select a new action (for each agent)\n",
    "            env_info = env.step(actions)[brain_name]               # send all actions to the environment\n",
    "            next_states = np.reshape(env_info.vector_observations, (1, 48)) # get next new state (for each agent)\n",
    "            rewards = env_info.rewards                             # get new reward (for each agent)\n",
    "            dones = env_info.local_done                             # see if episode finished\n",
    "            \n",
    "            agent_0.step(states, actions, rewards[0], next_states, dones, 0) # agent 1 learns here\n",
    "            agent_1.step(states, actions, rewards[1], next_states, dones, 1) # agent 2 learns here\n",
    "            \n",
    "            scores += np.max(rewards)                              # update the new score (for each agent)\n",
    "            states = next_states                                   # roll over states to next time step\n",
    "            if np.any(dones):                                       # exit loop if episode finished\n",
    "                break\n",
    "\n",
    "        scores_window.append(scores)                            # save the most recent new score\n",
    "        average = np.mean(scores_window)                        # calculate the average\n",
    "        if solved==False:\n",
    "            scored.append(scores)                               # save the most recent new score to the total\n",
    "            mov_avg.append(average)                             # save the most recent moving average\n",
    "                \n",
    "        print('\\rEpisode {}\\tAverage Score: {:.3f}'.format(i_episode, np.mean(scores_window)), end=\"\")\n",
    "            \n",
    "        if i_episode % 10 == 0:\n",
    "            print('\\rEpisode {}\\tAverage Score: {:.3f}'.format(i_episode, np.mean(scores_window)))\n",
    "        if (np.mean(scores_window) >= 0.5) & (solved==False):\n",
    "            print('\\nEnvironment solved in {:d} episodes!\\tAverage Score: {:.3f}'\n",
    "                    .format(i_episode, np.mean(scores_window)))\n",
    "            solved = True\n",
    "        \n",
    "        if (np.mean(scores_window) >= 0.5) & (solved==True):\n",
    "            print('\\nEnvironment solved with BUFFER in {:d} episodes!\\tAverage Score: {:.2f}'\n",
    "                    .format(i_episode, np.mean(scores_window)))  # to ensure that my final plot stays > 30\n",
    "        \n",
    "            torch.save(agent_0.actor_local.state_dict(), 'checkpoint_actor_0.pth')   # save the actor weights\n",
    "            torch.save(agent_0.critic_local.state_dict(), 'checkpoint_critic_0.pth') # save the critic weights\n",
    "            torch.save(agent_1.actor_local.state_dict(), 'checkpoint_actor_1.pth')   # save the actor weights\n",
    "            torch.save(agent_1.critic_local.state_dict(), 'checkpoint_critic_1.pth') # save the critic weights\n",
    "            \n",
    "            break\n",
    "        \n",
    "    return scored, mov_avg"
   ]
  },
  {
   "cell_type": "markdown",
   "metadata": {},
   "source": [
    "Now we initialize the Agents and run the ma_ddpg function and see how well we learn ..."
   ]
  },
  {
   "cell_type": "code",
   "execution_count": 9,
   "metadata": {
    "scrolled": true
   },
   "outputs": [
    {
     "name": "stdout",
     "output_type": "stream",
     "text": [
      "Episode 10\tAverage Score: 0.000\n",
      "Episode 20\tAverage Score: 0.000\n",
      "Episode 30\tAverage Score: 0.003\n",
      "Episode 40\tAverage Score: 0.010\n",
      "Episode 50\tAverage Score: 0.008\n",
      "Episode 60\tAverage Score: 0.008\n",
      "Episode 70\tAverage Score: 0.010\n",
      "Episode 80\tAverage Score: 0.010\n",
      "Episode 90\tAverage Score: 0.019\n",
      "Episode 100\tAverage Score: 0.019\n",
      "Episode 110\tAverage Score: 0.023\n",
      "Episode 120\tAverage Score: 0.037\n",
      "Episode 130\tAverage Score: 0.040\n",
      "Episode 140\tAverage Score: 0.044\n",
      "Episode 150\tAverage Score: 0.048\n",
      "Episode 160\tAverage Score: 0.051\n",
      "Episode 170\tAverage Score: 0.057\n",
      "Episode 180\tAverage Score: 0.062\n",
      "Episode 190\tAverage Score: 0.061\n",
      "Episode 200\tAverage Score: 0.068\n",
      "Episode 210\tAverage Score: 0.069\n",
      "Episode 220\tAverage Score: 0.058\n",
      "Episode 230\tAverage Score: 0.064\n",
      "Episode 240\tAverage Score: 0.062\n",
      "Episode 250\tAverage Score: 0.062\n",
      "Episode 260\tAverage Score: 0.072\n",
      "Episode 270\tAverage Score: 0.079\n",
      "Episode 280\tAverage Score: 0.082\n",
      "Episode 290\tAverage Score: 0.082\n",
      "Episode 300\tAverage Score: 0.086\n",
      "Episode 310\tAverage Score: 0.101\n",
      "Episode 320\tAverage Score: 0.105\n",
      "Episode 330\tAverage Score: 0.103\n",
      "Episode 340\tAverage Score: 0.110\n",
      "Episode 350\tAverage Score: 0.117\n",
      "Episode 360\tAverage Score: 0.110\n",
      "Episode 370\tAverage Score: 0.111\n",
      "Episode 380\tAverage Score: 0.112\n",
      "Episode 390\tAverage Score: 0.116\n",
      "Episode 400\tAverage Score: 0.117\n",
      "Episode 410\tAverage Score: 0.113\n",
      "Episode 420\tAverage Score: 0.115\n",
      "Episode 430\tAverage Score: 0.125\n",
      "Episode 440\tAverage Score: 0.126\n",
      "Episode 450\tAverage Score: 0.127\n",
      "Episode 460\tAverage Score: 0.132\n",
      "Episode 470\tAverage Score: 0.127\n",
      "Episode 480\tAverage Score: 0.129\n",
      "Episode 490\tAverage Score: 0.129\n",
      "Episode 500\tAverage Score: 0.127\n",
      "Episode 510\tAverage Score: 0.118\n",
      "Episode 520\tAverage Score: 0.112\n",
      "Episode 530\tAverage Score: 0.107\n",
      "Episode 540\tAverage Score: 0.099\n",
      "Episode 550\tAverage Score: 0.094\n",
      "Episode 560\tAverage Score: 0.084\n",
      "Episode 570\tAverage Score: 0.079\n",
      "Episode 580\tAverage Score: 0.074\n",
      "Episode 590\tAverage Score: 0.072\n",
      "Episode 600\tAverage Score: 0.068\n",
      "Episode 610\tAverage Score: 0.070\n",
      "Episode 620\tAverage Score: 0.076\n",
      "Episode 630\tAverage Score: 0.072\n",
      "Episode 640\tAverage Score: 0.079\n",
      "Episode 650\tAverage Score: 0.080\n",
      "Episode 660\tAverage Score: 0.085\n",
      "Episode 670\tAverage Score: 0.091\n",
      "Episode 680\tAverage Score: 0.095\n",
      "Episode 690\tAverage Score: 0.091\n",
      "Episode 700\tAverage Score: 0.092\n",
      "Episode 710\tAverage Score: 0.092\n",
      "Episode 720\tAverage Score: 0.093\n",
      "Episode 730\tAverage Score: 0.096\n",
      "Episode 740\tAverage Score: 0.094\n",
      "Episode 750\tAverage Score: 0.098\n",
      "Episode 760\tAverage Score: 0.103\n",
      "Episode 770\tAverage Score: 0.106\n",
      "Episode 780\tAverage Score: 0.102\n",
      "Episode 790\tAverage Score: 0.109\n",
      "Episode 800\tAverage Score: 0.110\n",
      "Episode 810\tAverage Score: 0.110\n",
      "Episode 820\tAverage Score: 0.105\n",
      "Episode 830\tAverage Score: 0.103\n",
      "Episode 840\tAverage Score: 0.100\n",
      "Episode 850\tAverage Score: 0.101\n",
      "Episode 860\tAverage Score: 0.101\n",
      "Episode 870\tAverage Score: 0.096\n",
      "Episode 880\tAverage Score: 0.095\n",
      "Episode 890\tAverage Score: 0.086\n",
      "Episode 900\tAverage Score: 0.084\n",
      "Episode 910\tAverage Score: 0.085\n",
      "Episode 920\tAverage Score: 0.093\n",
      "Episode 930\tAverage Score: 0.096\n",
      "Episode 940\tAverage Score: 0.097\n",
      "Episode 950\tAverage Score: 0.084\n",
      "Episode 960\tAverage Score: 0.075\n",
      "Episode 970\tAverage Score: 0.071\n",
      "Episode 980\tAverage Score: 0.075\n",
      "Episode 990\tAverage Score: 0.078\n",
      "Episode 1000\tAverage Score: 0.076\n",
      "Episode 1010\tAverage Score: 0.075\n",
      "Episode 1020\tAverage Score: 0.072\n",
      "Episode 1030\tAverage Score: 0.067\n",
      "Episode 1040\tAverage Score: 0.074\n",
      "Episode 1050\tAverage Score: 0.084\n",
      "Episode 1060\tAverage Score: 0.091\n",
      "Episode 1070\tAverage Score: 0.095\n",
      "Episode 1080\tAverage Score: 0.094\n",
      "Episode 1090\tAverage Score: 0.101\n",
      "Episode 1100\tAverage Score: 0.100\n",
      "Episode 1110\tAverage Score: 0.100\n",
      "Episode 1120\tAverage Score: 0.096\n",
      "Episode 1130\tAverage Score: 0.092\n",
      "Episode 1140\tAverage Score: 0.080\n",
      "Episode 1150\tAverage Score: 0.079\n",
      "Episode 1160\tAverage Score: 0.080\n",
      "Episode 1170\tAverage Score: 0.087\n",
      "Episode 1180\tAverage Score: 0.099\n",
      "Episode 1190\tAverage Score: 0.100\n",
      "Episode 1200\tAverage Score: 0.122\n",
      "Episode 1210\tAverage Score: 0.126\n",
      "Episode 1220\tAverage Score: 0.133\n",
      "Episode 1230\tAverage Score: 0.144\n",
      "Episode 1240\tAverage Score: 0.154\n",
      "Episode 1250\tAverage Score: 0.156\n",
      "Episode 1260\tAverage Score: 0.163\n",
      "Episode 1270\tAverage Score: 0.163\n",
      "Episode 1280\tAverage Score: 0.157\n",
      "Episode 1290\tAverage Score: 0.162\n",
      "Episode 1300\tAverage Score: 0.149\n",
      "Episode 1310\tAverage Score: 0.158\n",
      "Episode 1320\tAverage Score: 0.159\n",
      "Episode 1330\tAverage Score: 0.155\n",
      "Episode 1340\tAverage Score: 0.161\n",
      "Episode 1350\tAverage Score: 0.167\n",
      "Episode 1360\tAverage Score: 0.173\n",
      "Episode 1370\tAverage Score: 0.185\n",
      "Episode 1380\tAverage Score: 0.182\n",
      "Episode 1390\tAverage Score: 0.191\n",
      "Episode 1400\tAverage Score: 0.196\n",
      "Episode 1410\tAverage Score: 0.202\n",
      "Episode 1420\tAverage Score: 0.215\n",
      "Episode 1430\tAverage Score: 0.235\n",
      "Episode 1440\tAverage Score: 0.253\n",
      "Episode 1450\tAverage Score: 0.267\n",
      "Episode 1460\tAverage Score: 0.266\n",
      "Episode 1470\tAverage Score: 0.272\n",
      "Episode 1480\tAverage Score: 0.290\n",
      "Episode 1490\tAverage Score: 0.295\n",
      "Episode 1500\tAverage Score: 0.308\n",
      "Episode 1510\tAverage Score: 0.350\n",
      "Episode 1520\tAverage Score: 0.363\n",
      "Episode 1530\tAverage Score: 0.373\n",
      "Episode 1540\tAverage Score: 0.378\n",
      "Episode 1550\tAverage Score: 0.373\n",
      "Episode 1560\tAverage Score: 0.373\n",
      "Episode 1570\tAverage Score: 0.405\n",
      "Episode 1580\tAverage Score: 0.487\n",
      "Episode 1581\tAverage Score: 0.509\n",
      "Environment solved in 1581 episodes!\tAverage Score: 0.509\n",
      "\n",
      "Environment solved with BUFFER in 1581 episodes!\tAverage Score: 0.51\n"
     ]
    }
   ],
   "source": [
    "agent_0 = Agent(state_size, action_size, random_seed=0, num_agents=1)\n",
    "agent_1 = Agent(state_size, action_size, random_seed=0, num_agents=1)\n",
    "with active_session():\n",
    "    scores, avgs = ma_ddpg()"
   ]
  },
  {
   "cell_type": "markdown",
   "metadata": {},
   "source": [
    "### 4. Now Let's Plot Our Results From Training\n",
    "\n",
    "There are two lines in the plot below.  The Blue line shows what the scores where during training.  The Yellow line shows the average score over 100 episodes.\n",
    "\n",
    "We are considered \"trained\" when we can average a score of 0.5 for every Agent over 100 episodes.  And that happened at episode 1581.\n",
    "\n",
    "This time I didn't bother to train a little bit longer in an attempt to ensure that my saved weights will give me a good chance of getting a score of 0.5 or better in the future.  I had a REALLY hard time getting to 0.5, and it took a LONG time.  So I'm going to take my win and move on."
   ]
  },
  {
   "cell_type": "code",
   "execution_count": 10,
   "metadata": {},
   "outputs": [
    {
     "data": {
      "image/png": "[encoded data removed]",
      "text/plain": [
       "<matplotlib.figure.Figure at 0x7fab1b9fd8d0>"
      ]
     },
     "metadata": {
      "needs_background": "light"
     },
     "output_type": "display_data"
    }
   ],
   "source": [
    "fig = plt.figure()\n",
    "ax = fig.add_subplot(111)\n",
    "plt.plot(np.arange(len(scores)), scores, c='blue', linewidth=1, label=\"MA_DDPG Score\")\n",
    "plt.plot(np.arange(len(scores)), avgs, c='yellow', linewidth=3, label=\"Score Average\")\n",
    "plt.legend(loc='upper left')\n",
    "plt.margins(x=0.0, y=0.1)\n",
    "plt.ylabel('Score')\n",
    "plt.xlabel('Episode #')\n",
    "plt.show()"
   ]
  },
  {
   "cell_type": "markdown",
   "metadata": {},
   "source": [
    "Now that we are finished, we can close the environment."
   ]
  },
  {
   "cell_type": "code",
   "execution_count": 11,
   "metadata": {},
   "outputs": [],
   "source": [
    "env.close()"
   ]
  }
 ],
 "metadata": {
  "kernelspec": {
   "display_name": "Python 3",
   "language": "python",
   "name": "python3"
  },
  "language_info": {
   "codemirror_mode": {
    "name": "ipython",
    "version": 3
   },
   "file_extension": ".py",
   "mimetype": "text/x-python",
   "name": "python",
   "nbconvert_exporter": "python",
   "pygments_lexer": "ipython3",
   "version": "3.6.3"
  }
 },
 "nbformat": 4,
 "nbformat_minor": 2
}
